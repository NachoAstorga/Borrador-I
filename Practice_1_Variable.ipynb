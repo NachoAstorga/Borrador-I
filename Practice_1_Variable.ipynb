{
  "nbformat": 4,
  "nbformat_minor": 0,
  "metadata": {
    "kernelspec": {
      "display_name": "Python 3",
      "language": "python",
      "name": "python3"
    },
    "language_info": {
      "codemirror_mode": {
        "name": "ipython",
        "version": 3
      },
      "file_extension": ".py",
      "mimetype": "text/x-python",
      "name": "python",
      "nbconvert_exporter": "python",
      "pygments_lexer": "ipython3",
      "version": "3.8.3"
    },
    "colab": {
      "name": "Practice_1_Variable.ipynb",
      "provenance": [],
      "toc_visible": true,
      "include_colab_link": true
    }
  },
  "cells": [
    {
      "cell_type": "markdown",
      "metadata": {
        "id": "view-in-github",
        "colab_type": "text"
      },
      "source": [
        "<a href=\"https://colab.research.google.com/github/NachoAstorga/Borrador-I/blob/main/Practice_1_Variable.ipynb\" target=\"_parent\"><img src=\"https://colab.research.google.com/assets/colab-badge.svg\" alt=\"Open In Colab\"/></a>"
      ]
    },
    {
      "cell_type": "markdown",
      "metadata": {
        "id": "YKjzYA-WjN3A"
      },
      "source": [
        "# Python | day 1 | variables"
      ]
    },
    {
      "cell_type": "markdown",
      "metadata": {
        "id": "lqpSw7AijN3J"
      },
      "source": [
        "Variables are nothing but reserved memory locations to store values. This means that when you create a variable you reserve some space in memory.\n",
        "\n",
        "Based on the data type of a variable, the interpreter allocates memory and decides what can be stored in the reserved memory. Therefore, by assigning different data types to variables, you can store integers, decimals or characters in these variables."
      ]
    },
    {
      "cell_type": "markdown",
      "metadata": {
        "id": "Swf3IuFgjN3L"
      },
      "source": [
        "### Exercise 1.\n",
        "\n",
        "1. Write a python comment saying _'My very first python code:'_"
      ]
    },
    {
      "cell_type": "code",
      "metadata": {
        "id": "rj7UOBRLjN3L"
      },
      "source": [
        ""
      ],
      "execution_count": null,
      "outputs": []
    },
    {
      "cell_type": "markdown",
      "metadata": {
        "id": "zYMF3I9JjN3M"
      },
      "source": [
        "2. Declare a **first name** variable and assign a value to it\n"
      ]
    },
    {
      "cell_type": "code",
      "metadata": {
        "id": "i1fmgjzpjN3M"
      },
      "source": [
        ""
      ],
      "execution_count": null,
      "outputs": []
    },
    {
      "cell_type": "markdown",
      "metadata": {
        "id": "b-ZTixJkjN3N"
      },
      "source": [
        "3. Declare a **last name** variable and assign a value to it\n"
      ]
    },
    {
      "cell_type": "code",
      "metadata": {
        "id": "MMA-y36PjN3N"
      },
      "source": [
        ""
      ],
      "execution_count": null,
      "outputs": []
    },
    {
      "cell_type": "markdown",
      "metadata": {
        "id": "pT1fCWVPjN3N"
      },
      "source": [
        "4. Declare a **full name** variable and assign a value to it\n"
      ]
    },
    {
      "cell_type": "code",
      "metadata": {
        "id": "brlekyWCjN3O"
      },
      "source": [
        ""
      ],
      "execution_count": null,
      "outputs": []
    },
    {
      "cell_type": "markdown",
      "metadata": {
        "id": "OsmJtg3ujN3O"
      },
      "source": [
        "5. Declare a **country** variable and assign a value to it"
      ]
    },
    {
      "cell_type": "code",
      "metadata": {
        "id": "8rFYsNMQjN3O"
      },
      "source": [
        ""
      ],
      "execution_count": null,
      "outputs": []
    },
    {
      "cell_type": "markdown",
      "metadata": {
        "id": "_mWvanq-jN3O"
      },
      "source": [
        "6. Declare a **city** variable and assign a value to it"
      ]
    },
    {
      "cell_type": "code",
      "metadata": {
        "id": "kX7G94v1jN3O"
      },
      "source": [
        ""
      ],
      "execution_count": null,
      "outputs": []
    },
    {
      "cell_type": "markdown",
      "metadata": {
        "id": "4yEHPkoRjN3P"
      },
      "source": [
        "7. Declare an **age** variable and assign a value to it"
      ]
    },
    {
      "cell_type": "code",
      "metadata": {
        "id": "XXablJ-0jN3R"
      },
      "source": [
        ""
      ],
      "execution_count": null,
      "outputs": []
    },
    {
      "cell_type": "markdown",
      "metadata": {
        "id": "X7Q8syqAjN3R"
      },
      "source": [
        "8. Declare a **year** variable and assign a value to it"
      ]
    },
    {
      "cell_type": "code",
      "metadata": {
        "id": "L6AusyR7jN3R"
      },
      "source": [
        ""
      ],
      "execution_count": null,
      "outputs": []
    },
    {
      "cell_type": "markdown",
      "metadata": {
        "id": "gHTiat7njN3R"
      },
      "source": [
        "9. Declare a variable **is_married** and assign a value to it"
      ]
    },
    {
      "cell_type": "code",
      "metadata": {
        "id": "3R27NrtDjN3R"
      },
      "source": [
        ""
      ],
      "execution_count": null,
      "outputs": []
    },
    {
      "cell_type": "markdown",
      "metadata": {
        "id": "M3zDgL14jN3S"
      },
      "source": [
        "10. Declare a variable **is_true** and assign a value to it"
      ]
    },
    {
      "cell_type": "code",
      "metadata": {
        "id": "_xqiLkRejN3S"
      },
      "source": [
        ""
      ],
      "execution_count": null,
      "outputs": []
    },
    {
      "cell_type": "markdown",
      "metadata": {
        "id": "H5g9vO-FjN3S"
      },
      "source": [
        "11. Declare a variable **is_light_on** and assign a value to it"
      ]
    },
    {
      "cell_type": "code",
      "metadata": {
        "id": "deTBR38rjN3S"
      },
      "source": [
        ""
      ],
      "execution_count": null,
      "outputs": []
    },
    {
      "cell_type": "markdown",
      "metadata": {
        "id": "zaMaLypEjN3S"
      },
      "source": [
        "## Exercise 2. \n",
        "\n",
        "1. Check the data type of all your variables using `type()` built-in function\n"
      ]
    },
    {
      "cell_type": "code",
      "metadata": {
        "id": "R07AYPRqjN3T"
      },
      "source": [
        ""
      ],
      "execution_count": null,
      "outputs": []
    },
    {
      "cell_type": "markdown",
      "metadata": {
        "id": "p04npYPdjN3T"
      },
      "source": [
        "Turn the variable **age**, which should be *integer*, into type *float*. This action is known as cast a variable."
      ]
    },
    {
      "cell_type": "code",
      "metadata": {
        "id": "RxnpRdRTjN3T"
      },
      "source": [
        ""
      ],
      "execution_count": null,
      "outputs": []
    },
    {
      "cell_type": "markdown",
      "metadata": {
        "id": "0ot4tcuhjN3T"
      },
      "source": [
        "2. Using the `len()` built-in function find the length of your first name\n"
      ]
    },
    {
      "cell_type": "code",
      "metadata": {
        "id": "UDeRSu56jN3U"
      },
      "source": [
        ""
      ],
      "execution_count": null,
      "outputs": []
    },
    {
      "cell_type": "markdown",
      "metadata": {
        "id": "aLwbLtV_jN3U"
      },
      "source": [
        "3. Compare the length of your first name and your last name\n"
      ]
    },
    {
      "cell_type": "code",
      "metadata": {
        "id": "nTfixwlqjN3U"
      },
      "source": [
        ""
      ],
      "execution_count": null,
      "outputs": []
    },
    {
      "cell_type": "markdown",
      "metadata": {
        "id": "Dzm4LCd_jN3U"
      },
      "source": [
        "4. Declare 5 as **num_one** and 4 as **num_two**\n"
      ]
    },
    {
      "cell_type": "code",
      "metadata": {
        "id": "wN0hcoiajN3U"
      },
      "source": [
        ""
      ],
      "execution_count": null,
      "outputs": []
    },
    {
      "cell_type": "markdown",
      "metadata": {
        "id": "KDRwb0QPjN3V"
      },
      "source": [
        "5. Add **num_one** and **num_two** and assign the value to a variable **_total**\n"
      ]
    },
    {
      "cell_type": "code",
      "metadata": {
        "id": "2R8XN6cojN3V"
      },
      "source": [
        ""
      ],
      "execution_count": null,
      "outputs": []
    },
    {
      "cell_type": "markdown",
      "metadata": {
        "id": "PxIf-9enjN3V"
      },
      "source": [
        "6. Subtract num_two from num_one and assign the value to a variable _diff\n"
      ]
    },
    {
      "cell_type": "code",
      "metadata": {
        "id": "Sn6_HAphjN3W"
      },
      "source": [
        ""
      ],
      "execution_count": null,
      "outputs": []
    },
    {
      "cell_type": "markdown",
      "metadata": {
        "id": "1L-f1VIrjN3W"
      },
      "source": [
        "7. Multiply **num_two** and **num_one** and assign the value to a variable **_product**\n"
      ]
    },
    {
      "cell_type": "code",
      "metadata": {
        "id": "LH0XAboxjN3W"
      },
      "source": [
        ""
      ],
      "execution_count": null,
      "outputs": []
    },
    {
      "cell_type": "markdown",
      "metadata": {
        "id": "DCtwvqkgjN3X"
      },
      "source": [
        "8. Divide **num_one** by **num_two** and assign the value to a variable **_division**\n"
      ]
    },
    {
      "cell_type": "code",
      "metadata": {
        "id": "-RpbHZ_ujN3X"
      },
      "source": [
        ""
      ],
      "execution_count": null,
      "outputs": []
    },
    {
      "cell_type": "markdown",
      "metadata": {
        "id": "KK5ymZzKjN3X"
      },
      "source": [
        "9. Use modulus division to find **num_two** divided by **num_one** and assign the value to a variable **_remainder**\n"
      ]
    },
    {
      "cell_type": "code",
      "metadata": {
        "id": "oREje72GjN3Y"
      },
      "source": [
        ""
      ],
      "execution_count": null,
      "outputs": []
    },
    {
      "cell_type": "markdown",
      "metadata": {
        "id": "XzWcLpMzjN3Y"
      },
      "source": [
        "10. Calculate **num_one** to the power of **num_two** and assign the value to variable **_exp**\n"
      ]
    },
    {
      "cell_type": "code",
      "metadata": {
        "id": "pgalOVU3jN3Y"
      },
      "source": [
        ""
      ],
      "execution_count": null,
      "outputs": []
    },
    {
      "cell_type": "markdown",
      "metadata": {
        "id": "ssBGjfXRjN3Y"
      },
      "source": [
        "11. Find floor division of **num_one** by **num_two** and assign the value to a variable **_floor_division**\n"
      ]
    },
    {
      "cell_type": "code",
      "metadata": {
        "id": "cGkxPHPCjN3Z"
      },
      "source": [
        ""
      ],
      "execution_count": null,
      "outputs": []
    },
    {
      "cell_type": "markdown",
      "metadata": {
        "id": "tqv6xBuPjN3Z"
      },
      "source": [
        "## Bonus track. "
      ]
    },
    {
      "cell_type": "markdown",
      "metadata": {
        "id": "H5i7arB8jN3Z"
      },
      "source": [
        "12. The radius of a circle is 30 meters. \n",
        "    Calculate the area of a circle and assign the value to a variable **area_of_circle**"
      ]
    },
    {
      "cell_type": "code",
      "metadata": {
        "id": "tkzAGQbUjN3Z"
      },
      "source": [
        ""
      ],
      "execution_count": null,
      "outputs": []
    },
    {
      "cell_type": "markdown",
      "metadata": {
        "id": "Y8aj1CBQjN3Z"
      },
      "source": [
        "13. Calculate the circumference of a circle and assign the value to a variable **circum_of_circle**\n"
      ]
    },
    {
      "cell_type": "code",
      "metadata": {
        "id": "iGgqYZRtjN3a"
      },
      "source": [
        ""
      ],
      "execution_count": null,
      "outputs": []
    },
    {
      "cell_type": "markdown",
      "metadata": {
        "id": "yXgUXII1jN3a"
      },
      "source": [
        "14. Take radius as user input and calculate the area.\n"
      ]
    },
    {
      "cell_type": "code",
      "metadata": {
        "id": "33XWz4U5jN3a"
      },
      "source": [
        ""
      ],
      "execution_count": null,
      "outputs": []
    },
    {
      "cell_type": "markdown",
      "metadata": {
        "id": "Ko4Diip8jN3a"
      },
      "source": [
        "15. Use the built-in input function to get first name, last name, country and age from a user and store the value to their corresponding variable names\n"
      ]
    },
    {
      "cell_type": "code",
      "metadata": {
        "id": "Jgbc3_KEjN3a"
      },
      "source": [
        ""
      ],
      "execution_count": null,
      "outputs": []
    },
    {
      "cell_type": "markdown",
      "metadata": {
        "id": "HE6-4hGJjN3a"
      },
      "source": [
        "16. What is a reserved word in Python? Run `help('keywords')` to check for the reserved words. "
      ]
    },
    {
      "cell_type": "code",
      "metadata": {
        "id": "vvOOyGnGjN3b"
      },
      "source": [
        ""
      ],
      "execution_count": null,
      "outputs": []
    },
    {
      "cell_type": "markdown",
      "metadata": {
        "id": "R-4Gm7SmjN3b"
      },
      "source": [
        "**Well done!**"
      ]
    },
    {
      "cell_type": "markdown",
      "metadata": {
        "id": "eqNcVKfZjN3b"
      },
      "source": [
        "![h](https://i.pinimg.com/originals/11/b4/20/11b420fbf1595be3056ad6355277933c.jpg)"
      ]
    },
    {
      "cell_type": "code",
      "metadata": {
        "id": "zZ5nAJrKjN3b"
      },
      "source": [
        ""
      ],
      "execution_count": null,
      "outputs": []
    }
  ]
}